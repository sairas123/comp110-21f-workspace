{
 "cells": [
  {
   "cell_type": "markdown",
   "source": [
    "# Working with CSV Data\n",
    "\n",
    "Comma-seperated value files are commonly used for sharing tables of data between systems.\n",
    "\n",
    "Programs like Microsoft Excel, Google Sheets, as well as popular data base systems can produce CSV files as exports and programs, such as the ones we will write today, have libraries for reading and proccessing data in from CSV files."
   ],
   "metadata": {}
  },
  {
   "cell_type": "code",
   "execution_count": null,
   "source": [
    "%reload_ext autoreload\n",
    "%autoreload 2\n",
    "print(\"Autoreload of imported modules enabled. Be sure to save you modules!\")"
   ],
   "outputs": [],
   "metadata": {}
  },
  {
   "cell_type": "markdown",
   "source": [
    "## Importing Utility Functions\n",
    "\n",
    "Our helper functions will be located in 'lessons/data_utils.py' and we will import the function in the code cell below."
   ],
   "metadata": {}
  },
  {
   "cell_type": "code",
   "execution_count": null,
   "source": [
    "from data_utils import read_csv_rows\n",
    "\n",
    "data_file: str = \"../data/weather.csv\"\n",
    "data_table: list[dict[str, str]] = read_csv_rows(data_file)\n",
    "data_table"
   ],
   "outputs": [],
   "metadata": {}
  },
  {
   "cell_type": "markdown",
   "source": [
    "## Selecting the values of a single column with 'column_value'\n"
   ],
   "metadata": {}
  },
  {
   "cell_type": "code",
   "execution_count": null,
   "source": [
    "from data_utils import column_values\n",
    "\n",
    "dates: list[str] = column_values(data_table, \"high\")\n",
    "dates"
   ],
   "outputs": [],
   "metadata": {}
  },
  {
   "cell_type": "markdown",
   "source": [
    "## Convert a row-oriented table to a column-oriented \"table\""
   ],
   "metadata": {}
  },
  {
   "cell_type": "code",
   "execution_count": null,
   "source": [
    "from data_utils import columnar\n",
    "\n",
    "column_table: dict[str, list[str]] = columnar(data_table)\n",
    "column_table"
   ],
   "outputs": [],
   "metadata": {}
  }
 ],
 "metadata": {
  "orig_nbformat": 4,
  "language_info": {
   "name": "python",
   "version": "3.9.6",
   "mimetype": "text/x-python",
   "codemirror_mode": {
    "name": "ipython",
    "version": 3
   },
   "pygments_lexer": "ipython3",
   "nbconvert_exporter": "python",
   "file_extension": ".py"
  },
  "kernelspec": {
   "name": "python3",
   "display_name": "Python 3.9.6 64-bit"
  },
  "interpreter": {
   "hash": "aee8b7b246df8f9039afb4144a1f6fd8d2ca17a180786b69acc140d282b71a49"
  }
 },
 "nbformat": 4,
 "nbformat_minor": 2
}